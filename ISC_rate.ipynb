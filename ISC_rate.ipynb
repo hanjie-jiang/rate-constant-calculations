{
 "cells": [
  {
   "cell_type": "code",
   "execution_count": 2,
   "metadata": {},
   "outputs": [],
   "source": [
    "import numpy as np"
   ]
  },
  {
   "cell_type": "code",
   "execution_count": 3,
   "metadata": {},
   "outputs": [],
   "source": [
    "def param1(reorg):\n",
    "    k = 4*np.pi*reorg*(8.6173*10**(-5))*298.15\n",
    "    param1 = 1/(np.sqrt(k))\n",
    "    return param1"
   ]
  },
  {
   "cell_type": "code",
   "execution_count": 4,
   "metadata": {},
   "outputs": [],
   "source": [
    "def expo(adiab, reorg):\n",
    "    k = 4*reorg*(8.6173*10**(-5))*298.15\n",
    "    nom = (adiab + reorg)**2\n",
    "    exponent1 = np.exp(-nom/k)\n",
    "    return exponent1"
   ]
  },
  {
   "cell_type": "code",
   "execution_count": 5,
   "metadata": {},
   "outputs": [],
   "source": [
    "def fcwd(param1, exponent1):\n",
    "    weighted_dens = param1 * exponent1\n",
    "    return weighted_dens"
   ]
  },
  {
   "cell_type": "code",
   "execution_count": 6,
   "metadata": {},
   "outputs": [],
   "source": [
    "def rate(dens, coup):\n",
    "    scaled_soc = ((2*np.pi)/(6.582*10**(-16)))*(coup)\n",
    "    print(scaled_soc)\n",
    "    rate = scaled_soc * dens\n",
    "    return rate"
   ]
  },
  {
   "cell_type": "code",
   "execution_count": 7,
   "metadata": {},
   "outputs": [],
   "source": [
    "def run(reorg, adiab, coup):\n",
    "    p1 = param1(reorg)\n",
    "    expo1 = expo(adiab, reorg)\n",
    "    dens = fcwd(p1, expo1)\n",
    "    r1 = rate(dens, coup)\n",
    "    print(r1)\n",
    "    return r1"
   ]
  },
  {
   "cell_type": "code",
   "execution_count": 7,
   "metadata": {},
   "outputs": [],
   "source": [
    "#betaC\n",
    "reorg = 0.424\n",
    "adiab = -0.595\n",
    "coup = ((0.257)**2)/(8065.544**2)"
   ]
  },
  {
   "cell_type": "code",
   "execution_count": 8,
   "metadata": {},
   "outputs": [
    {
     "name": "stdout",
     "output_type": "stream",
     "text": [
      "9692167.423241705\n",
      "13390384.695305465\n"
     ]
    }
   ],
   "source": [
    "p1 = param1(reorg)\n",
    "expo1 = expo(adiab, reorg)\n",
    "dens = fcwd(p1, expo1)\n",
    "r1 = rate(dens, coup)\n",
    "print(r1)"
   ]
  },
  {
   "cell_type": "code",
   "execution_count": 9,
   "metadata": {},
   "outputs": [
    {
     "name": "stdout",
     "output_type": "stream",
     "text": [
      "1072921715.7936203\n",
      "827212.4405292483\n"
     ]
    }
   ],
   "source": [
    "#beta\n",
    "reorg2 = 0.244\n",
    "adiab2 = -0.704\n",
    "coup2 = ((2.704**2))/(8065.544**2) #2.704eV converts to cm-1\n",
    "p2 = param1(reorg2)\n",
    "expo2 = expo(adiab2, reorg2)\n",
    "dens2 = fcwd(p2, expo2)\n",
    "r2 = rate(dens2, coup2)\n",
    "print(r2)"
   ]
  },
  {
   "cell_type": "code",
   "execution_count": 10,
   "metadata": {},
   "outputs": [
    {
     "name": "stdout",
     "output_type": "stream",
     "text": [
      "7826244.090088031\n",
      "21932.310732250953\n"
     ]
    }
   ],
   "source": [
    "#example-SCM\n",
    "reorg3 = 0.06\n",
    "adiab3 = 0.16\n",
    "coup3 = ((0.4**2)/3)/(8065.544**2)\n",
    "p3 = param1(reorg3)\n",
    "expo3 = expo(adiab3, reorg3)\n",
    "dens3 = fcwd(p3, expo3)\n",
    "r3 = rate(dens3, coup3)\n",
    "print(r3)"
   ]
  },
  {
   "cell_type": "code",
   "execution_count": 11,
   "metadata": {},
   "outputs": [
    {
     "name": "stdout",
     "output_type": "stream",
     "text": [
      "779207376.5302856\n",
      "9.052855715927306e-05\n",
      "9.052855715927306e-05\n"
     ]
    }
   ],
   "source": [
    "#m1/S1 geom\n",
    "reorg4 = 0.0819\n",
    "adiab4 = 0.4338256\n",
    "coup4 = ((2.304354**2))/(8065.544**2)\n",
    "r4 = run(reorg4, adiab4, coup4)\n",
    "print(r4)"
   ]
  },
  {
   "cell_type": "code",
   "execution_count": 12,
   "metadata": {},
   "outputs": [
    {
     "name": "stdout",
     "output_type": "stream",
     "text": [
      "8794680.459613616\n",
      "238649.49700124518\n",
      "238649.49700124518\n"
     ]
    }
   ],
   "source": [
    "#m1f/S1 geom\n",
    "reorg5 = 0.1\n",
    "adiab5 = 0.1339\n",
    "coup5 = ((0.244812**2))/(8065.544**2)\n",
    "r5 = run(reorg5, adiab5, coup5)\n",
    "print(r5)"
   ]
  },
  {
   "cell_type": "code",
   "execution_count": 13,
   "metadata": {},
   "outputs": [
    {
     "name": "stdout",
     "output_type": "stream",
     "text": [
      "6629570.22228418\n",
      "1279340.5506995476\n"
     ]
    }
   ],
   "source": [
    "#m1/T1 geom\n",
    "reorg6 = 0.1901\n",
    "adiab6 = -0.4338256\n",
    "coup6 = ((0.368151**2)/3)/(8065.544**2)\n",
    "r6 = run(reorg6, adiab6, coup6)"
   ]
  },
  {
   "cell_type": "code",
   "execution_count": 32,
   "metadata": {},
   "outputs": [
    {
     "name": "stdout",
     "output_type": "stream",
     "text": [
      "13762442.286238521\n",
      "49893871.04822049\n"
     ]
    }
   ],
   "source": [
    "#m1f/T1 geom\n",
    "reorg7 = 0.0680\n",
    "adiab7 = -0.1339\n",
    "coup7 = ((0.306246**2))/(8065.544**2)\n",
    "r7 = run(reorg7, adiab7, coup7)"
   ]
  },
  {
   "cell_type": "code",
   "execution_count": 11,
   "metadata": {},
   "outputs": [
    {
     "name": "stdout",
     "output_type": "stream",
     "text": [
      "10725011.590035802\n",
      "785644.8923036825\n"
     ]
    }
   ],
   "source": [
    "#m1/T1 geom/012221\n",
    "reorg7 = 0.1515\n",
    "adiab7 = -0.404854804\n",
    "coup7 = ((0.270347**2))/(8065.544**2)\n",
    "r7 = run(reorg7, adiab7, coup7)"
   ]
  },
  {
   "cell_type": "code",
   "execution_count": 18,
   "metadata": {},
   "outputs": [
    {
     "name": "stdout",
     "output_type": "stream",
     "text": [
      "1.0524478579710566e+16\n",
      "12859402287.23553\n"
     ]
    }
   ],
   "source": [
    "#BFCbzPN\n",
    "reorg8 = 0.26\n",
    "adiab8 = 0.37\n",
    "coup8 = ((1.05**2))\n",
    "r8 = run(reorg8, adiab8, coup8)"
   ]
  },
  {
   "cell_type": "code",
   "execution_count": 8,
   "metadata": {},
   "outputs": [
    {
     "name": "stdout",
     "output_type": "stream",
     "text": [
      "939149.2908105636\n",
      "1554065.8924965216\n"
     ]
    }
   ],
   "source": [
    "#BFCbzTrz\n",
    "reorg8 = 0.09\n",
    "adiab8 = -0.1981931326\n",
    "coup8 = ((0.08**2))/(8065.544**2)\n",
    "r8 = run(reorg8, adiab8, coup8)"
   ]
  },
  {
   "cell_type": "code",
   "execution_count": null,
   "metadata": {},
   "outputs": [],
   "source": []
  }
 ],
 "metadata": {
  "@webio": {
   "lastCommId": null,
   "lastKernelId": null
  },
  "kernelspec": {
   "display_name": "Python 3",
   "language": "python",
   "name": "python3"
  },
  "language_info": {
   "codemirror_mode": {
    "name": "ipython",
    "version": 3
   },
   "file_extension": ".py",
   "mimetype": "text/x-python",
   "name": "python",
   "nbconvert_exporter": "python",
   "pygments_lexer": "ipython3",
   "version": "3.7.4"
  }
 },
 "nbformat": 4,
 "nbformat_minor": 2
}
