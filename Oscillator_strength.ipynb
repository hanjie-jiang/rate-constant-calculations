{
 "cells": [
  {
   "cell_type": "code",
   "execution_count": 2,
   "metadata": {},
   "outputs": [
    {
     "data": {
      "text/plain": [
       "tdm_to_oscillator_strength (generic function with 1 method)"
      ]
     },
     "execution_count": 2,
     "metadata": {},
     "output_type": "execute_result"
    }
   ],
   "source": [
    "function tdm_to_oscillator_strength(x,y,z,E1,E2; debye = true)\n",
    "    x = abs(x)\n",
    "    y = abs(y)\n",
    "    z = abs(z)\n",
    "    dE = abs(E1 - E2)\n",
    "    debye_to_au = 0.393456\n",
    "    ev_to_au = 27.2116\n",
    "    if (debye != true)\n",
    "        tdm_au_sq = (x)^2 + (y)^2 + (z)^2\n",
    "        print(\"Using atomic units!\\n\")\n",
    "    else \n",
    "        tdm_au_sq = (x*debye_to_au)^2 + (y*debye_to_au)^2 + (z*debye_to_au)\n",
    "    end\n",
    "    osc_strength = (2/3)*(dE/ev_to_au)*tdm_au_sq\n",
    "    osc_strength_debye = osc_strength/debye_to_au\n",
    "    return osc_strength,osc_strength_debye\n",
    "end"
   ]
  },
  {
   "cell_type": "code",
   "execution_count": 3,
   "metadata": {},
   "outputs": [
    {
     "name": "stdout",
     "output_type": "stream",
     "text": [
      "Ground -> S1: (0.2861185190907435, 0.727193178120917)\n",
      "Ground -> S2: (3.2545115373630424, 8.27160225632102)\n",
      "Ground -> S3: (0.0056284146259525875, 0.014305067468668893)\n",
      "Ground -> ME,S4: (2.0479008105252205e-10, 5.204904260006762e-10)\n",
      "S1 -> S2: (6.869617446526222e-5, 0.0001745968404732987)\n",
      "S1 -> S3: (0.005902504257264344, 0.015001688263145928)\n",
      "S1 -> S4: (6.525448258577696e-8, 1.6584950435570169e-7)\n",
      "S2 -> ME,S4: (6.939484510895287e-8, 1.763725679846104e-7)\n"
     ]
    }
   ],
   "source": [
    "# alpha S0 geometry\n",
    "# Ground -> S1\n",
    "# State 1 to 4:   X=-2.793550   Y= 2.058358   Z= 3.081810\n",
    "alpha_gs_s1 = tdm_to_oscillator_strength(-2.793550,2.058358,3.081810,0.000,3.796)\n",
    "print(\"Ground -> S1: \", alpha_gs_s1, \"\\n\")\n",
    "\n",
    "# Ground -> S2\n",
    "# State 1 to 5:   X=-0.038937   Y= 14.431818   Z=-5.587149\n",
    "alpha_gs_s2 = tdm_to_oscillator_strength(-0.038937,14.431818,-5.587149,0.000,3.857)\n",
    "print(\"Ground -> S2: \", alpha_gs_s2, \"\\n\")\n",
    "\n",
    "# Ground -> S3\n",
    "# State 1 to 8:   X= 0.029218   Y= 0.423324   Z=-0.062222 \n",
    "alpha_gs_s3 = tdm_to_oscillator_strength(0.029218,0.423324,-0.062222,0.000,4.388)\n",
    "print(\"Ground -> S3: \", alpha_gs_s3, \"\\n\")\n",
    "\n",
    "# Ground -> 1(ME):S4\n",
    "# State 1 to 11:   X= 0.000110   Y= 0.000012   Z= 0.000000\n",
    "alpha_gs_s4 = tdm_to_oscillator_strength(0.000110,0.000012,0.000000,0.000,4.410)\n",
    "print(\"Ground -> ME,S4: \", alpha_gs_s4, \"\\n\")\n",
    "\n",
    "# S1 -> S2\n",
    "# State 4 to 5:   X= 0.284191   Y= 0.246741   Z= 0.061098\n",
    "alpha_s1_s2 = tdm_to_oscillator_strength(0.284191,0.246741,0.061098,3.796,3.857)\n",
    "print(\"S1 -> S2: \", alpha_s1_s2, \"\\n\")\n",
    "\n",
    "# S1 -> S3\n",
    "# State 4 to 8:   X= 0.112455   Y=-1.319262   Z= 0.344574\n",
    "alpha_s1_s3 = tdm_to_oscillator_strength(0.112455,-1.319262,0.344574,3.796,4.388)\n",
    "print(\"S1 -> S3: \", alpha_s1_s3, \"\\n\")\n",
    "\n",
    "# S1 -> 1(ME):S4\n",
    "# State 4 to 11:   X= 0.000250   Y= 0.000043   Z=-0.000011\n",
    "alpha_s1_s4 = tdm_to_oscillator_strength(0.000250,0.000043,-0.000011,3.796,4.410)\n",
    "print(\"S1 -> S4: \", alpha_s1_s4, \"\\n\")\n",
    "\n",
    "# S2 -> 1(ME):S4\n",
    "# State 5 to 11:   X=-0.000214   Y= 0.000022   Z=-0.000013\n",
    "alpha_s2_s4 = tdm_to_oscillator_strength(-0.000214,0.000022,-0.000013,3.857,4.410)\n",
    "print(\"S2 -> ME,S4: \", alpha_s2_s4, \"\\n\")"
   ]
  },
  {
   "cell_type": "code",
   "execution_count": 4,
   "metadata": {
    "scrolled": true
   },
   "outputs": [
    {
     "name": "stdout",
     "output_type": "stream",
     "text": [
      "S0 -> S1: 1.669447621958042\n",
      " in debye: 4.243035109282975\n",
      "S0 -> S2: 2.349564893394377\n",
      " in debye: 5.971607736047683\n",
      "S0 -> S3: 0.5834647569266571\n",
      " in debye: 1.4829225044901009\n",
      "S0 -> S4: 0.0005026788532056579\n",
      " in debye: 0.0012775986468770535\n",
      "S1 -> S2: 0.01969826571067057\n",
      " in debye: 0.05006472314736736\n",
      "S1 -> S3: 0.00037397330151287613\n",
      " in debye: 0.0009504831582511796\n",
      "S1 -> S4: 0.007573979828090823\n",
      " in debye: 0.019249877567226892\n",
      "S2 -> S3: 0.0012985534460229126\n",
      " in debye: 0.0033003777957965126\n",
      "S2 -> S4: 0.0026258047806770055\n",
      " in debye: 0.006673693578639049\n"
     ]
    }
   ],
   "source": [
    "# alpha S1 geometry\n",
    "\n",
    "#2.953734,10.312689,0.131549\n",
    "alpha2_s0_s1,a2_s0_s1_d = tdm_to_oscillator_strength(2.953734,10.312689,0.131549,0.000,3.814)\n",
    "print(\"S0 -> S1: \", alpha2_s0_s1,\"\\n in debye: \", a2_s0_s1_d, \"\\n\")\n",
    "\n",
    "#-3.854937,-11.715303,-0.276547\n",
    "alpha2_s0_s2,a2_s0_s2_d = tdm_to_oscillator_strength(-3.854937,-11.715303,-0.276547,0.000,4.054)\n",
    "print(\"S0 -> S2: \", alpha2_s0_s2,\"\\n in debye: \", a2_s0_s2_d, \"\\n\")\n",
    "\n",
    "#5.785546,-1.274486,0.11846\n",
    "alpha2_s0_s3,a2_s0_s3_d = tdm_to_oscillator_strength(5.785546,-1.274486,0.11846,0.000,4.346)\n",
    "print(\"S0 -> S3: \", alpha2_s0_s3,\"\\n in debye: \", a2_s0_s3_d, \"\\n\")\n",
    "\n",
    "#-0.071994,-0.066804,-0.007858\n",
    "alpha2_s0_s4,a2_s0_s4_d = tdm_to_oscillator_strength(-0.071994,-0.066804,-0.007858,0.000,4.475)\n",
    "print(\"S0 -> S4: \", alpha2_s0_s4,\"\\n in debye: \", a2_s0_s4_d, \"\\n\")\n",
    "\n",
    "#4.609067,-0.54522,0.03929\n",
    "alpha2_s1_s2,a2_s1_s2_d = tdm_to_oscillator_strength(4.609067,-0.54522,0.03929,3.814,4.054)\n",
    "print(\"S1 -> S2: \", alpha2_s1_s2,\"\\n in debye: \", a2_s1_s2_d, \"\\n\")\n",
    "\n",
    "#-0.067366,0.319212,0.031048\n",
    "alpha2_s1_s3,a2_s1_s3_d = tdm_to_oscillator_strength(-0.067366,0.319212,0.031048,3.814,4.346)\n",
    "print(\"S1 -> S3: \", alpha2_s1_s3,\"\\n in debye: \", a2_s1_s3_d, \"\\n\")\n",
    "\n",
    "#1.722888,-0.169045,0.009543\n",
    "alpha2_s1_s4,a2_s1_s4_d = tdm_to_oscillator_strength(1.722888,-0.169045,0.009543,3.814,4.475)\n",
    "print(\"S1 -> S4: \", alpha2_s1_s4,\"\\n in debye: \", a2_s1_s4_d, \"\\n\")\n",
    "\n",
    "#0.904622,-0.581616,0.006267\n",
    "alpha2_s2_s3,a2_s2_s3_d = tdm_to_oscillator_strength(0.904622,-0.581616,0.006267,4.054,4.346)\n",
    "print(\"S2 -> S3: \", alpha2_s2_s3,\"\\n in debye: \", a2_s2_s3_d, \"\\n\")\n",
    "\n",
    "#1.24813,-0.219765,0.015098\n",
    "alpha2_s2_s4,a2_s2_s4_d = tdm_to_oscillator_strength(1.24813,-0.219765,0.015098,4.054,4.475)\n",
    "print(\"S2 -> S4: \", alpha2_s2_s4,\"\\n in debye: \", a2_s2_s4_d, \"\\n\")"
   ]
  },
  {
   "cell_type": "code",
   "execution_count": 9,
   "metadata": {},
   "outputs": [
    {
     "name": "stdout",
     "output_type": "stream",
     "text": [
      "S0 -> S1: 0.28791276547137673\n",
      " in debye: 0.73175339929084\n",
      "S0 -> S2: 0.03982225770468078\n",
      " in debye: 0.10121146380962746\n",
      "S0 -> S3: 0.03488594083947704\n",
      " in debye: 0.0886654183427805\n",
      "S0 -> S4: 0.0005026788532056579\n",
      " in debye: 0.0012775986468770535\n",
      "S1 -> S2: 0.01969826571067057\n",
      " in debye: 0.05006472314736736\n",
      "S1 -> S3: 0.00037397330151287613\n",
      " in debye: 0.0009504831582511796\n",
      "S1 -> S4: 0.007573979828090823\n",
      " in debye: 0.019249877567226892\n",
      "S2 -> S3: 0.0012985534460229126\n",
      " in debye: 0.0033003777957965126\n",
      "S2 -> S4: 0.0026258047806770055\n",
      " in debye: 0.006673693578639049\n"
     ]
    }
   ],
   "source": [
    "# b6 S1 geometry\n",
    "\n",
    "#-4.8446,0.725696,-2.977561\n",
    "b2_s0_s1,b2_s0_s1_d = tdm_to_oscillator_strength(-4.8446,0.725696,-2.977561,0.000,2.405)\n",
    "print(\"S0 -> S1: \", b2_s0_s1,\"\\n in debye: \", b2_s0_s1_d, \"\\n\")\n",
    "\n",
    "#0.722285,-0.1763,1.080398\n",
    "b2_s0_s2,b2_s0_s2_d = tdm_to_oscillator_strength(0.722285,-0.1763,1.080398,0.000,3.183)\n",
    "print(\"S0 -> S2: \", b2_s0_s2,\"\\n in debye: \", b2_s0_s2_d, \"\\n\")\n",
    "\n",
    "#0.823038,-0.435911,0.752424\n",
    "b2_s0_s3,b2_s0_s3_d = tdm_to_oscillator_strength(0.823038,-0.435911,0.752424,0.000,3.309)\n",
    "print(\"S0 -> S3: \", b2_s0_s3,\"\\n in debye: \", b2_s0_s3_d, \"\\n\")\n",
    "\n",
    "#-0.071994,-0.066804,-0.007858\n",
    "alpha2_s0_s4,a2_s0_s4_d = tdm_to_oscillator_strength(-0.071994,-0.066804,-0.007858,0.000,4.475)\n",
    "print(\"S0 -> S4: \", alpha2_s0_s4,\"\\n in debye: \", a2_s0_s4_d, \"\\n\")\n",
    "\n",
    "#4.609067,-0.54522,0.03929\n",
    "alpha2_s1_s2,a2_s1_s2_d = tdm_to_oscillator_strength(4.609067,-0.54522,0.03929,3.814,4.054)\n",
    "print(\"S1 -> S2: \", alpha2_s1_s2,\"\\n in debye: \", a2_s1_s2_d, \"\\n\")\n",
    "\n",
    "#-0.067366,0.319212,0.031048\n",
    "alpha2_s1_s3,a2_s1_s3_d = tdm_to_oscillator_strength(-0.067366,0.319212,0.031048,3.814,4.346)\n",
    "print(\"S1 -> S3: \", alpha2_s1_s3,\"\\n in debye: \", a2_s1_s3_d, \"\\n\")\n",
    "\n",
    "#1.722888,-0.169045,0.009543\n",
    "alpha2_s1_s4,a2_s1_s4_d = tdm_to_oscillator_strength(1.722888,-0.169045,0.009543,3.814,4.475)\n",
    "print(\"S1 -> S4: \", alpha2_s1_s4,\"\\n in debye: \", a2_s1_s4_d, \"\\n\")\n",
    "\n",
    "#0.904622,-0.581616,0.006267\n",
    "alpha2_s2_s3,a2_s2_s3_d = tdm_to_oscillator_strength(0.904622,-0.581616,0.006267,4.054,4.346)\n",
    "print(\"S2 -> S3: \", alpha2_s2_s3,\"\\n in debye: \", a2_s2_s3_d, \"\\n\")\n",
    "\n",
    "#1.24813,-0.219765,0.015098\n",
    "alpha2_s2_s4,a2_s2_s4_d = tdm_to_oscillator_strength(1.24813,-0.219765,0.015098,4.054,4.475)\n",
    "print(\"S2 -> S4: \", alpha2_s2_s4,\"\\n in debye: \", a2_s2_s4_d, \"\\n\")"
   ]
  },
  {
   "cell_type": "code",
   "execution_count": 6,
   "metadata": {},
   "outputs": [
    {
     "name": "stdout",
     "output_type": "stream",
     "text": [
      "Ground -> S1: (2.1436926088833386, 5.44836680310718)\n",
      "Ground -> S2: (0.29160394540985846, 0.7411348293325263)\n",
      "Ground -> S3: (0.17715022642597708, 0.4502415172877707)\n",
      "Ground -> S4: (1.1439690153139146, 2.9074890592948504)\n",
      "Ground -> S5: (0.025761841027791752, 0.06547578643556523)\n",
      "Ground -> S6: (0.07811318359617944, 0.19853092492217542)\n",
      "Ground -> S7: (0.46784929085437077, 1.1890765189865469)\n",
      "Ground -> 1(ME)(S8): (0.007119988600228352, 0.018096022427484527)\n",
      "S1 -> S2: (0.00067838476853902, 0.0017241693316127347)\n",
      "S1 -> S3: (0.14477129184495946, 0.3679478565454828)\n",
      "S1 -> S4: (0.0072561088930574395, 0.018441983075763085)\n",
      "S1 -> S5: (0.003029853541594223, 0.007700615930610343)\n",
      "S1 -> S6: (0.004433621632904019, 0.011268405191187882)\n",
      "S1 -> S7: (0.009724206436089324, 0.02471485105345788)\n",
      "S1 -> 1(ME)(S8): (0.01388129966241004, 0.03528043710709721)\n"
     ]
    }
   ],
   "source": [
    "# beta6C\n",
    "\n",
    "# Ground -> S1\n",
    "b6c_gs_s1 = tdm_to_oscillator_strength(11.570695,1.725456,1.583077,0.000,4.012)\n",
    "print(\"Ground -> S1: \", b6c_gs_s1, \"\\n\")\n",
    "\n",
    "# Ground -> S2\n",
    "b6c_gs_s2 = tdm_to_oscillator_strength(-4.045428,1.554273,0.001363,0.000,4.093)\n",
    "print(\"Ground -> S2: \", b6c_gs_s2, \"\\n\")\n",
    "\n",
    "# Ground -> S3\n",
    "b6c_gs_s3 = tdm_to_oscillator_strength(-2.817241,-0.944002,-0.791530,0.000,4.309)\n",
    "print(\"Ground -> S3: \", b6c_gs_s3, \"\\n\")\n",
    "\n",
    "# Ground -> S4\n",
    "b6c_gs_s4 = tdm_to_oscillator_strength(-8.056609,-0.668021,-1.111134,0.000,4.424)\n",
    "print(\"Ground -> S4: \", b6c_gs_s4, \"\\n\")\n",
    "\n",
    "# Ground -> S5\n",
    "b6c_gs_s5 = tdm_to_oscillator_strength(1.002111,0.246391,0.133746,0.000,4.835)\n",
    "print(\"Ground -> S5: \", b6c_gs_s5, \"\\n\")\n",
    "\n",
    "# Ground -> S6\n",
    "b6c_gs_s6 = tdm_to_oscillator_strength(2.014543,-0.203909,-0.023258,0.000,4.952)\n",
    "print(\"Ground -> S6: \", b6c_gs_s6, \"\\n\")\n",
    "\n",
    "# Ground -> S7\n",
    "b6c_gs_s7 = tdm_to_oscillator_strength(-0.159462,4.855990,-0.351577,0.000,5.035)\n",
    "print(\"Ground -> S7: \", b6c_gs_s7, \"\\n\")\n",
    "\n",
    "# Ground -> 1(ME) (S8)\n",
    "b6c_gs_1me = tdm_to_oscillator_strength(0.174762,0.380961,-0.073777,0.000,5.169)\n",
    "print(\"Ground -> 1(ME)(S8): \", b6c_gs_1me, \"\\n\")\n",
    "\n",
    "# S1 -> S2\n",
    "b6c_s1_s2 = tdm_to_oscillator_strength(1.084624,-0.218553,-0.387182,4.012,4.093)\n",
    "print(\"S1 -> S2: \", b6c_s1_s2, \"\\n\")\n",
    "\n",
    "# S1 -> S3\n",
    "b6c_s1_s3 = tdm_to_oscillator_strength(10.392318,-2.193039,-6.182278,4.012,4.309)\n",
    "print(\"S1 -> S3: \", b6c_s1_s3, \"\\n\")\n",
    "\n",
    "# S1 -> S4\n",
    "b6c_s1_s4 = tdm_to_oscillator_strength(-1.543505,0.579053,0.757773,4.012,4.424)\n",
    "print(\"S1 -> S4: \", b6c_s1_s4, \"\\n\")\n",
    "\n",
    "# S1 -> S5\n",
    "b6c_s1_s5 = tdm_to_oscillator_strength(0.177763,0.432392,0.295924,4.012,4.835)\n",
    "print(\"S1 -> S5: \", b6c_s1_s5, \"\\n\")\n",
    "\n",
    "# S1 -> S6\n",
    "b6c_s1_s6 = tdm_to_oscillator_strength(-0.297355,0.746360,-0.235340,4.012,4.952)\n",
    "print(\"S1 -> S6: \", b6c_s1_s6, \"\\n\")\n",
    "\n",
    "# S1 -> S7\n",
    "b6c_s1_s7 = tdm_to_oscillator_strength(0.806596,0.922367,-0.395397,4.012,5.035)\n",
    "print(\"S1 -> S7: \", b6c_s1_s7, \"\\n\")\n",
    "\n",
    "# S1 -> 1(ME)\n",
    "b6c_s1_1me = tdm_to_oscillator_strength(1.341459,-0.145943,-0.528237,4.012,5.169)\n",
    "print(\"S1 -> 1(ME)(S8): \", b6c_s1_1me, \"\\n\")\n"
   ]
  },
  {
   "cell_type": "code",
   "execution_count": 7,
   "metadata": {},
   "outputs": [
    {
     "name": "stdout",
     "output_type": "stream",
     "text": [
      "Using atomic units!\n",
      "Checking the oscillator strength in TD-DFT, should be 0.0954848073: (0.09549027025577325, 0.24269618522979255)\n"
     ]
    }
   ],
   "source": [
    "#-1.0321 X   0.0837 Y   0.5114 Z\n",
    "# S1 -> 1(ME)\n",
    "check = tdm_to_oscillator_strength(-1.0321,0.0837,0.5114,0.000,2.9223, debye = false)\n",
    "print(\"Checking the oscillator strength in TD-DFT, should be 0.0954848073: \", check, \"\\n\")"
   ]
  },
  {
   "cell_type": "code",
   "execution_count": null,
   "metadata": {},
   "outputs": [],
   "source": []
  }
 ],
 "metadata": {
  "kernelspec": {
   "display_name": "Julia 1.5.1",
   "language": "julia",
   "name": "julia-1.5"
  },
  "language_info": {
   "file_extension": ".jl",
   "mimetype": "application/julia",
   "name": "julia",
   "version": "1.5.1"
  }
 },
 "nbformat": 4,
 "nbformat_minor": 2
}
